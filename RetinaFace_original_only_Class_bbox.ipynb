{
  "nbformat": 4,
  "nbformat_minor": 0,
  "metadata": {
    "colab": {
      "name": "RetinaFace_original_only_Class_bbox.ipynb",
      "provenance": [],
      "collapsed_sections": [],
      "mount_file_id": "1ixRf1GxDN6I3p_dlk_-wntCY7yoTUuUP",
      "authorship_tag": "ABX9TyN/aL/cHfFsmk+a5VBLvwXf"
    },
    "kernelspec": {
      "name": "python3",
      "display_name": "Python 3"
    },
    "language_info": {
      "name": "python"
    },
    "accelerator": "GPU"
  },
  "cells": [
    {
      "cell_type": "markdown",
      "source": [
        "#Start\n",
        "\n",
        "Paper - https://arxiv.org/abs/1905.00641\n",
        "\n",
        "Dataset - http://shuoyang1213.me/WIDERFACE/\n",
        "\n",
        "Training dataset download link - https://drive.google.com/file/d/15hGDLhsx8bLgLcIRD5DhYt5iBxnjNF1M/view\n",
        "\n",
        "Validation dataset download link - https://drive.google.com/file/d/1GUCogbp16PMGa39thoMMeWxp7Rp5oM8Q/view\n",
        "\n",
        "RetinaFace official annotations - https://drive.google.com/file/d/1vgCABX1JI3NGBzsHxwBXlmRjaLV3NIsG/view"
      ],
      "metadata": {
        "id": "hUFL9-au2sZI"
      }
    },
    {
      "cell_type": "code",
      "source": [
        "import os\n",
        "import cv2\n",
        "import json\n",
        "import tqdm\n",
        "import random\n",
        "import numpy as np\n",
        "import matplotlib.pyplot as plt\n",
        "\n",
        "import tensorflow as tf\n",
        "from tensorflow import keras\n",
        "\n",
        "from google_drive_downloader import GoogleDriveDownloader as gdd"
      ],
      "metadata": {
        "id": "Z-ncd2qR2uPq"
      },
      "execution_count": 1,
      "outputs": []
    },
    {
      "cell_type": "markdown",
      "source": [
        "# Download Dataset and annotations"
      ],
      "metadata": {
        "id": "kFHP_nLW7yyO"
      }
    },
    {
      "cell_type": "code",
      "source": [
        "!mkdir data"
      ],
      "metadata": {
        "id": "3gfA1wwoDaI4"
      },
      "execution_count": 2,
      "outputs": []
    },
    {
      "cell_type": "code",
      "source": [
        "#training images\n",
        "gdd.download_file_from_google_drive(file_id='15hGDLhsx8bLgLcIRD5DhYt5iBxnjNF1M',\n",
        "                                    dest_path='/content/data/widertrain.zip',\n",
        "                                    unzip=True)"
      ],
      "metadata": {
        "id": "iQm7esuT3AA0",
        "colab": {
          "base_uri": "https://localhost:8080/"
        },
        "outputId": "f7a2a599-23c9-4b0d-abdf-a94b503b776a"
      },
      "execution_count": 3,
      "outputs": [
        {
          "output_type": "stream",
          "name": "stdout",
          "text": [
            "Downloading 15hGDLhsx8bLgLcIRD5DhYt5iBxnjNF1M into /content/data/widertrain.zip... Done.\n",
            "Unzipping...Done.\n"
          ]
        }
      ]
    },
    {
      "cell_type": "code",
      "source": [
        "#validation images\n",
        "gdd.download_file_from_google_drive(file_id='1GUCogbp16PMGa39thoMMeWxp7Rp5oM8Q',\n",
        "                                    dest_path='/content/data/widerval.zip',\n",
        "                                    unzip=True)"
      ],
      "metadata": {
        "id": "z7QwjI7U2_-j",
        "colab": {
          "base_uri": "https://localhost:8080/"
        },
        "outputId": "0d16fed6-f0da-4614-e3b2-d9cb27bc3eb4"
      },
      "execution_count": 4,
      "outputs": [
        {
          "output_type": "stream",
          "name": "stdout",
          "text": [
            "Downloading 1GUCogbp16PMGa39thoMMeWxp7Rp5oM8Q into /content/data/widerval.zip... Done.\n",
            "Unzipping...Done.\n"
          ]
        }
      ]
    },
    {
      "cell_type": "code",
      "source": [
        "!mkdir labels"
      ],
      "metadata": {
        "id": "RUug0GigEGys"
      },
      "execution_count": 5,
      "outputs": []
    },
    {
      "cell_type": "code",
      "source": [
        "#ground truth labels\n",
        "gdd.download_file_from_google_drive(file_id='1vgCABX1JI3NGBzsHxwBXlmRjaLV3NIsG',\n",
        "                                    dest_path='/content/labels/widergt.zip',\n",
        "                                    unzip=True)"
      ],
      "metadata": {
        "id": "BQFrpK4X2_8L",
        "colab": {
          "base_uri": "https://localhost:8080/"
        },
        "outputId": "869d2482-21e0-46ad-d891-fc57afaab388"
      },
      "execution_count": 6,
      "outputs": [
        {
          "output_type": "stream",
          "name": "stdout",
          "text": [
            "Downloading 1vgCABX1JI3NGBzsHxwBXlmRjaLV3NIsG into /content/labels/widergt.zip... Done.\n",
            "Unzipping...Done.\n"
          ]
        }
      ]
    },
    {
      "cell_type": "code",
      "source": [
        "!cp /content/labels/train/label.txt /content/data/WIDER_train/"
      ],
      "metadata": {
        "id": "PMEfWnmN2_5W"
      },
      "execution_count": 7,
      "outputs": []
    },
    {
      "cell_type": "code",
      "source": [
        "!cp /content/labels/val/label.txt /content/data/WIDER_val/"
      ],
      "metadata": {
        "id": "1a1oZ1SU2uNI"
      },
      "execution_count": 8,
      "outputs": []
    },
    {
      "cell_type": "markdown",
      "source": [
        "## From official site as well http://shuoyang1213.me/WIDERFACE/"
      ],
      "metadata": {
        "id": "uj96H9bkLcOt"
      }
    },
    {
      "cell_type": "code",
      "source": [
        "!wget http://shuoyang1213.me/WIDERFACE/support/bbx_annotation/wider_face_split.zip"
      ],
      "metadata": {
        "colab": {
          "base_uri": "https://localhost:8080/"
        },
        "id": "Xh13uhzALBYk",
        "outputId": "8495e673-4e19-49d2-fb2f-b418ad8c6de2"
      },
      "execution_count": 9,
      "outputs": [
        {
          "output_type": "stream",
          "name": "stdout",
          "text": [
            "--2022-01-09 10:01:25--  http://shuoyang1213.me/WIDERFACE/support/bbx_annotation/wider_face_split.zip\n",
            "Resolving shuoyang1213.me (shuoyang1213.me)... 192.30.252.153, 192.30.252.154\n",
            "Connecting to shuoyang1213.me (shuoyang1213.me)|192.30.252.153|:80... connected.\n",
            "HTTP request sent, awaiting response... 200 OK\n",
            "Length: 3591642 (3.4M) [application/zip]\n",
            "Saving to: ‘wider_face_split.zip’\n",
            "\n",
            "wider_face_split.zi 100%[===================>]   3.42M  16.6MB/s    in 0.2s    \n",
            "\n",
            "2022-01-09 10:01:25 (16.6 MB/s) - ‘wider_face_split.zip’ saved [3591642/3591642]\n",
            "\n"
          ]
        }
      ]
    },
    {
      "cell_type": "code",
      "source": [
        "!unzip /content/wider_face_split.zip"
      ],
      "metadata": {
        "colab": {
          "base_uri": "https://localhost:8080/"
        },
        "id": "-SxQLvDiLBVm",
        "outputId": "d67e0ff4-43e3-4e03-c25c-e74708794d6f"
      },
      "execution_count": 10,
      "outputs": [
        {
          "output_type": "stream",
          "name": "stdout",
          "text": [
            "Archive:  /content/wider_face_split.zip\n",
            "   creating: wider_face_split/\n",
            "  inflating: wider_face_split/readme.txt  \n",
            "  inflating: wider_face_split/wider_face_test.mat  \n",
            "  inflating: wider_face_split/wider_face_test_filelist.txt  \n",
            "  inflating: wider_face_split/wider_face_train.mat  \n",
            "  inflating: wider_face_split/wider_face_train_bbx_gt.txt  \n",
            "  inflating: wider_face_split/wider_face_val.mat  \n",
            "  inflating: wider_face_split/wider_face_val_bbx_gt.txt  \n"
          ]
        }
      ]
    },
    {
      "cell_type": "code",
      "source": [
        "!cp /content/wider_face_split/wider_face_train_bbx_gt.txt /content/data/WIDER_train\n",
        "!cp /content/wider_face_split/wider_face_val_bbx_gt.txt /content/data/WIDER_val"
      ],
      "metadata": {
        "id": "dBUUJ4HHLBS6"
      },
      "execution_count": 11,
      "outputs": []
    },
    {
      "cell_type": "code",
      "source": [
        ""
      ],
      "metadata": {
        "id": "Bvo5lPlbF2_t"
      },
      "execution_count": 11,
      "outputs": []
    },
    {
      "cell_type": "markdown",
      "source": [
        "# Checking Dataset"
      ],
      "metadata": {
        "id": "JeIroEQbF3l5"
      }
    },
    {
      "cell_type": "code",
      "source": [
        "train_images_folder = '/content/data/WIDER_train/images/'\n",
        "len(os.listdir(train_images_folder))"
      ],
      "metadata": {
        "colab": {
          "base_uri": "https://localhost:8080/"
        },
        "id": "QqPSlJypF5c-",
        "outputId": "c85e1568-df46-4822-bf72-b5cedbd1cc0d"
      },
      "execution_count": 12,
      "outputs": [
        {
          "output_type": "execute_result",
          "data": {
            "text/plain": [
              "61"
            ]
          },
          "metadata": {},
          "execution_count": 12
        }
      ]
    },
    {
      "cell_type": "code",
      "source": [
        "len(os.listdir(os.path.join(\n",
        "    train_images_folder, \n",
        "    os.listdir(train_images_folder)[0])))"
      ],
      "metadata": {
        "colab": {
          "base_uri": "https://localhost:8080/"
        },
        "id": "jqANuetZGEhH",
        "outputId": "41cbb9e2-9310-441a-8a90-0e7eb43e9e0c"
      },
      "execution_count": 13,
      "outputs": [
        {
          "output_type": "execute_result",
          "data": {
            "text/plain": [
              "105"
            ]
          },
          "metadata": {},
          "execution_count": 13
        }
      ]
    },
    {
      "cell_type": "code",
      "source": [
        "im = plt.imread('/content/data/WIDER_train/images/0--Parade/0_Parade_Parade_0_1014.jpg')\n",
        "im.shape"
      ],
      "metadata": {
        "colab": {
          "base_uri": "https://localhost:8080/"
        },
        "id": "24IfOwWMGEaD",
        "outputId": "6979417a-571b-4f3a-8e57-55c75cfa8c50"
      },
      "execution_count": 14,
      "outputs": [
        {
          "output_type": "execute_result",
          "data": {
            "text/plain": [
              "(732, 1024, 3)"
            ]
          },
          "metadata": {},
          "execution_count": 14
        }
      ]
    },
    {
      "cell_type": "markdown",
      "source": [
        "# Preparing dataset"
      ],
      "metadata": {
        "id": "OcRA6qQG88AQ"
      }
    },
    {
      "cell_type": "code",
      "source": [
        "with open('/content/data/WIDER_train/label.txt') as f:\n",
        "    lines = f.readlines()"
      ],
      "metadata": {
        "id": "oEkv2NdiITvw"
      },
      "execution_count": 16,
      "outputs": []
    },
    {
      "cell_type": "code",
      "source": [
        "lines[:2]"
      ],
      "metadata": {
        "colab": {
          "base_uri": "https://localhost:8080/"
        },
        "id": "NkpyDS2OITs3",
        "outputId": "c1efe298-a418-4625-fd42-b7c9a691d62c"
      },
      "execution_count": 17,
      "outputs": [
        {
          "output_type": "execute_result",
          "data": {
            "text/plain": [
              "['# 0--Parade/0_Parade_marchingband_1_849.jpg\\n',\n",
              " '449 330 122 149 488.906 373.643 0.0 542.089 376.442 0.0 515.031 412.83 0.0 485.174 425.893 0.0 538.357 431.491 0.0 0.82\\n']"
            ]
          },
          "metadata": {},
          "execution_count": 17
        }
      ]
    },
    {
      "cell_type": "code",
      "source": [
        "for line in lines:\n",
        "    if '#' not in line:\n",
        "        if len(lines[1].split()) != 20:\n",
        "            print(len(lines[1].split()))"
      ],
      "metadata": {
        "id": "2_WFsrVEIkal"
      },
      "execution_count": 18,
      "outputs": []
    },
    {
      "cell_type": "code",
      "source": [
        ""
      ],
      "metadata": {
        "id": "sr-wFe-dIkXq"
      },
      "execution_count": null,
      "outputs": []
    },
    {
      "cell_type": "code",
      "source": [
        "def load_labels(txt_path):\n",
        "    \"\"\"load info from label txt\"\"\"\n",
        "    img_paths = []\n",
        "    labels = []\n",
        "\n",
        "    with open(txt_path, 'r') as f:\n",
        "        lines = f.readlines()\n",
        "\n",
        "    isFirst = True\n",
        "    labels_image = []\n",
        "    for line in lines:\n",
        "        line = line.rstrip()\n",
        "        if line.startswith('#'):\n",
        "            if isFirst is True:\n",
        "                isFirst = False\n",
        "            else:\n",
        "                labels_image_copy = labels_image.copy()\n",
        "                labels.append(labels_image_copy)\n",
        "                labels_image.clear()\n",
        "            path = line[2:]\n",
        "            path = txt_path.replace('label.txt', 'images/') + path\n",
        "            img_paths.append(path)\n",
        "        else:\n",
        "            line = line.split(' ')\n",
        "            label = [float(x) for x in line]\n",
        "            labels_image.append(label)\n",
        "\n",
        "    labels.append(labels_image)\n",
        "    return img_paths, labels"
      ],
      "metadata": {
        "id": "qvoOiF9sFwXN"
      },
      "execution_count": 19,
      "outputs": []
    },
    {
      "cell_type": "code",
      "source": [
        "train_img_paths, train_labels= load_labels('/content/data/WIDER_train/label.txt')\n",
        "\n",
        "print(len(train_img_paths))\n",
        "print(len(train_labels))"
      ],
      "metadata": {
        "colab": {
          "base_uri": "https://localhost:8080/"
        },
        "id": "meV7koYONN5m",
        "outputId": "35507a68-7754-4fd5-dd5b-1adf56805af0"
      },
      "execution_count": 20,
      "outputs": [
        {
          "output_type": "stream",
          "name": "stdout",
          "text": [
            "12880\n",
            "12880\n"
          ]
        }
      ]
    },
    {
      "cell_type": "code",
      "source": [
        "train_img_paths[:3]"
      ],
      "metadata": {
        "colab": {
          "base_uri": "https://localhost:8080/"
        },
        "id": "TIv4AfduNN26",
        "outputId": "959195b7-1963-47c4-a924-ce1ae2d91b45"
      },
      "execution_count": 21,
      "outputs": [
        {
          "output_type": "execute_result",
          "data": {
            "text/plain": [
              "['/content/data/WIDER_train/images/0--Parade/0_Parade_marchingband_1_849.jpg',\n",
              " '/content/data/WIDER_train/images/0--Parade/0_Parade_Parade_0_904.jpg',\n",
              " '/content/data/WIDER_train/images/0--Parade/0_Parade_marchingband_1_799.jpg']"
            ]
          },
          "metadata": {},
          "execution_count": 21
        }
      ]
    },
    {
      "cell_type": "code",
      "source": [
        "for i in train_labels[:3]:\n",
        "    print(len(i),i)"
      ],
      "metadata": {
        "colab": {
          "base_uri": "https://localhost:8080/"
        },
        "id": "BTbDrcRLNN0O",
        "outputId": "e50c4d55-02b6-4edd-cfbe-7bd8ad7bdac1"
      },
      "execution_count": 22,
      "outputs": [
        {
          "output_type": "stream",
          "name": "stdout",
          "text": [
            "1 [[449.0, 330.0, 122.0, 149.0, 488.906, 373.643, 0.0, 542.089, 376.442, 0.0, 515.031, 412.83, 0.0, 485.174, 425.893, 0.0, 538.357, 431.491, 0.0, 0.82]]\n",
            "1 [[361.0, 98.0, 263.0, 339.0, 424.143, 251.656, 0.0, 547.134, 232.571, 0.0, 494.121, 325.875, 0.0, 453.83, 368.286, 0.0, 561.978, 342.839, 0.0, 0.89]]\n",
            "21 [[78.0, 221.0, 7.0, 8.0, -1.0, -1.0, -1.0, -1.0, -1.0, -1.0, -1.0, -1.0, -1.0, -1.0, -1.0, -1.0, -1.0, -1.0, -1.0, 0.2], [78.0, 238.0, 14.0, 17.0, 84.188, 244.607, 1.0, 89.527, 244.491, 1.0, 86.973, 247.857, 1.0, 85.116, 250.643, 1.0, 88.482, 250.643, 1.0, 0.36], [113.0, 212.0, 11.0, 15.0, 117.0, 220.0, 0.0, 122.0, 220.0, 0.0, 119.0, 222.0, 0.0, 118.0, 225.0, 0.0, 122.0, 225.0, 0.0, 0.3], [134.0, 260.0, 15.0, 15.0, 142.0, 265.0, 0.0, 146.0, 265.0, 0.0, 145.0, 267.0, 0.0, 142.0, 272.0, 0.0, 146.0, 271.0, 0.0, 0.24], [163.0, 250.0, 14.0, 17.0, 169.357, 256.5, 1.0, 175.25, 257.143, 1.0, 172.357, 260.786, 1.0, 170.214, 262.929, 1.0, 174.071, 262.821, 1.0, 0.41], [201.0, 218.0, 10.0, 12.0, 203.0, 222.0, 0.0, 207.0, 223.0, 0.0, 204.0, 225.0, 0.0, 203.0, 227.0, 0.0, 206.0, 227.0, 0.0, 0.22], [182.0, 266.0, 15.0, 17.0, 189.723, 271.487, 0.0, 195.527, 271.152, 0.0, 193.741, 274.835, 0.0, 191.062, 278.406, 0.0, 194.969, 278.295, 0.0, 0.32], [245.0, 279.0, 18.0, 15.0, 254.116, 281.973, 1.0, 259.571, 281.277, 1.0, 257.83, 284.411, 1.0, 255.161, 287.661, 1.0, 259.223, 287.08, 1.0, 0.26], [304.0, 265.0, 16.0, 17.0, 309.0, 272.0, 0.0, 314.0, 270.0, 1.0, 314.0, 275.0, 0.0, 312.0, 279.0, 0.0, 316.0, 278.0, 1.0, 0.29], [328.0, 295.0, 16.0, 20.0, 337.0, 303.0, 0.0, 343.0, 302.0, 0.0, 341.0, 307.0, 0.0, 339.0, 312.0, 0.0, 343.0, 312.0, 0.0, 0.32], [389.0, 281.0, 17.0, 19.0, 396.0, 290.0, 0.0, 401.0, 289.0, 1.0, 400.0, 294.0, 1.0, 399.0, 297.0, 0.0, 403.0, 296.0, 1.0, 0.27], [406.0, 293.0, 21.0, 21.0, 415.808, 298.987, 1.0, 424.527, 299.263, 1.0, 421.897, 302.446, 1.0, 418.438, 307.567, 1.0, 422.589, 307.567, 1.0, 0.37], [436.0, 290.0, 22.0, 17.0, 442.857, 292.929, 0.0, 453.857, 292.786, 1.0, 450.429, 296.357, 0.0, 447.571, 301.357, 1.0, 452.714, 301.071, 1.0, 0.45], [522.0, 328.0, 21.0, 18.0, 530.0, 332.0, 0.0, 539.0, 330.0, 0.0, 536.0, 335.0, 0.0, 533.0, 341.0, 0.0, 539.0, 340.0, 0.0, 0.29], [643.0, 320.0, 23.0, 22.0, 653.241, 323.062, 0.0, 661.893, 323.67, 0.0, 661.438, 328.83, 0.0, 653.393, 334.446, 0.0, 661.134, 334.75, 0.0, 0.28], [653.0, 224.0, 17.0, 25.0, 664.143, 233.031, 0.0, 668.933, 232.866, 0.0, 669.429, 236.996, 0.0, 664.804, 239.308, 0.0, 669.924, 239.473, 1.0, 0.36], [793.0, 337.0, 23.0, 30.0, 804.46, 348.429, 0.0, 812.714, 348.237, 0.0, 811.754, 355.339, 0.0, 804.076, 359.562, 0.0, 810.987, 359.562, 0.0, 0.47], [535.0, 311.0, 16.0, 17.0, 540.0, 316.0, 0.0, 547.0, 315.0, 0.0, 544.0, 320.0, 0.0, 542.0, 324.0, 0.0, 547.0, 323.0, 0.0, 0.26], [29.0, 220.0, 11.0, 15.0, 33.42, 226.804, 1.0, 38.134, 226.804, 1.0, 36.17, 229.554, 1.0, 33.812, 231.616, 1.0, 38.036, 231.42, 1.0, 0.34], [3.0, 232.0, 11.0, 15.0, 8.0, 240.0, 0.0, 14.0, 239.0, 0.0, 12.0, 243.0, 1.0, 9.0, 245.0, 1.0, 14.0, 245.0, 1.0, 0.29], [20.0, 215.0, 12.0, 16.0, 24.0, 221.0, 0.0, 30.0, 221.0, 1.0, 26.0, 224.0, 1.0, 24.0, 228.0, 1.0, 28.0, 229.0, 1.0, 0.26]]\n"
          ]
        }
      ]
    },
    {
      "cell_type": "code",
      "source": [
        "samples = list(zip(train_img_paths, train_labels))\n",
        "random.shuffle(samples)"
      ],
      "metadata": {
        "id": "cp6cE0D4Us3q"
      },
      "execution_count": 23,
      "outputs": []
    },
    {
      "cell_type": "code",
      "source": [
        "len(samples)\n",
        "#samples[:1]"
      ],
      "metadata": {
        "colab": {
          "base_uri": "https://localhost:8080/"
        },
        "id": "ibekGn7qVasx",
        "outputId": "ebbbca88-f1fb-4243-99a8-2e0e40cb158f"
      },
      "execution_count": 24,
      "outputs": [
        {
          "output_type": "execute_result",
          "data": {
            "text/plain": [
              "12880"
            ]
          },
          "metadata": {},
          "execution_count": 24
        }
      ]
    },
    {
      "cell_type": "code",
      "source": [
        ""
      ],
      "metadata": {
        "id": "yLxuQg02VeZr"
      },
      "execution_count": null,
      "outputs": []
    },
    {
      "cell_type": "code",
      "source": [
        ""
      ],
      "metadata": {
        "id": "EtulzphTE1HI"
      },
      "execution_count": null,
      "outputs": []
    },
    {
      "cell_type": "markdown",
      "source": [
        "# Testing img and bounding boxes"
      ],
      "metadata": {
        "id": "pqrgECUcYvT1"
      }
    },
    {
      "cell_type": "code",
      "source": [
        "len(samples)"
      ],
      "metadata": {
        "id": "L3Kau-GqE1JP",
        "colab": {
          "base_uri": "https://localhost:8080/"
        },
        "outputId": "4601a954-ac68-4ad4-f99d-7b77c4a68950"
      },
      "execution_count": 26,
      "outputs": [
        {
          "output_type": "execute_result",
          "data": {
            "text/plain": [
              "12880"
            ]
          },
          "metadata": {},
          "execution_count": 26
        }
      ]
    },
    {
      "cell_type": "code",
      "source": [
        "print(samples[3][0])\n",
        "for i in samples[3][1]:\n",
        "    print(i)"
      ],
      "metadata": {
        "id": "92Gx-UuJE1L9",
        "colab": {
          "base_uri": "https://localhost:8080/"
        },
        "outputId": "0923e289-a9c0-44ba-901e-b23f3bb2a9c1"
      },
      "execution_count": 27,
      "outputs": [
        {
          "output_type": "stream",
          "name": "stdout",
          "text": [
            "/content/data/WIDER_train/images/2--Demonstration/2_Demonstration_Demonstrators_2_688.jpg\n",
            "[25.0, 607.0, 58.0, 114.0, 71.143, 660.857, 0.0, 78.286, 655.143, 1.0, 79.714, 677.286, 1.0, 68.286, 703.0, 0.0, 74.714, 700.143, 1.0, 0.55]\n",
            "[211.0, 503.0, 37.0, 57.0, 202.714, 517.786, 1.0, 213.071, 518.143, 1.0, 202.714, 537.786, 1.0, 202.714, 556.357, 1.0, 220.214, 558.857, 1.0, 0.39]\n",
            "[111.0, 615.0, 87.0, 112.0, 166.902, 654.777, 1.0, 190.179, 654.777, 1.0, 197.938, 678.054, 1.0, 166.196, 695.688, 1.0, 186.652, 697.098, 1.0, 0.67]\n",
            "[190.0, 589.0, 53.0, 122.0, -1.0, -1.0, -1.0, -1.0, -1.0, -1.0, -1.0, -1.0, -1.0, -1.0, -1.0, -1.0, -1.0, -1.0, -1.0, 0.48]\n",
            "[335.0, 628.0, 51.0, 82.0, -1.0, -1.0, -1.0, -1.0, -1.0, -1.0, -1.0, -1.0, -1.0, -1.0, -1.0, -1.0, -1.0, -1.0, -1.0, 0.39]\n",
            "[508.0, 691.0, 37.0, 86.0, -1.0, -1.0, -1.0, -1.0, -1.0, -1.0, -1.0, -1.0, -1.0, -1.0, -1.0, -1.0, -1.0, -1.0, -1.0, 0.43]\n",
            "[595.0, 636.0, 68.0, 98.0, 619.143, 675.375, 0.0, 647.482, 674.143, 0.0, 633.312, 693.857, 0.0, 621.607, 708.643, 1.0, 646.866, 709.259, 0.0, 0.62]\n",
            "[697.0, 642.0, 75.0, 110.0, -1.0, -1.0, -1.0, -1.0, -1.0, -1.0, -1.0, -1.0, -1.0, -1.0, -1.0, -1.0, -1.0, -1.0, -1.0, 0.64]\n",
            "[815.0, 580.0, 64.0, 77.0, 848.46, 605.362, 0.0, 874.737, 602.929, 0.0, 871.33, 620.933, 0.0, 850.406, 637.478, 1.0, 872.79, 634.558, 1.0, 0.63]\n",
            "[885.0, 607.0, 54.0, 82.0, 894.411, 638.679, 1.0, 918.75, 636.607, 1.0, 902.696, 654.732, 0.0, 900.107, 667.679, 0.0, 916.679, 667.679, 0.0, 0.62]\n",
            "[967.0, 606.0, 50.0, 71.0, 997.214, 654.125, 0.0, 1020.21, 656.83, 0.0, 1003.076, 675.317, 0.0, 994.058, 688.393, 0.0, 1012.996, 691.098, 1.0, 0.58]\n",
            "[986.0, 621.0, 38.0, 92.0, 996.179, 652.491, 1.0, 1021.714, 655.973, 1.0, 1003.723, 673.964, 0.0, 994.438, 687.893, 0.0, 1018.232, 694.277, 0.0, 0.58]\n",
            "[1007.0, 389.0, 13.0, 21.0, -1.0, -1.0, -1.0, -1.0, -1.0, -1.0, -1.0, -1.0, -1.0, -1.0, -1.0, -1.0, -1.0, -1.0, -1.0, 0.24]\n",
            "[1002.0, 331.0, 13.0, 15.0, -1.0, -1.0, -1.0, -1.0, -1.0, -1.0, -1.0, -1.0, -1.0, -1.0, -1.0, -1.0, -1.0, -1.0, -1.0, 0.21]\n",
            "[988.0, 363.0, 13.0, 13.0, -1.0, -1.0, -1.0, -1.0, -1.0, -1.0, -1.0, -1.0, -1.0, -1.0, -1.0, -1.0, -1.0, -1.0, -1.0, 0.2]\n",
            "[916.0, 372.0, 12.0, 21.0, 917.625, 380.147, 1.0, 920.116, 380.286, 0.0, 917.348, 384.161, 1.0, 916.656, 387.759, 1.0, 919.009, 387.759, 1.0, 0.28]\n",
            "[879.0, 425.0, 12.0, 14.0, -1.0, -1.0, -1.0, -1.0, -1.0, -1.0, -1.0, -1.0, -1.0, -1.0, -1.0, -1.0, -1.0, -1.0, -1.0, 0.21]\n",
            "[629.0, 333.0, 59.0, 94.0, 656.219, 365.25, 0.0, 680.562, 364.656, 0.0, 675.812, 378.906, 0.0, 658.0, 402.062, 0.0, 679.375, 402.062, 0.0, 0.64]\n",
            "[797.0, 517.0, 13.0, 19.0, -1.0, -1.0, -1.0, -1.0, -1.0, -1.0, -1.0, -1.0, -1.0, -1.0, -1.0, -1.0, -1.0, -1.0, -1.0, 0.24]\n",
            "[951.0, 381.0, 15.0, 23.0, -1.0, -1.0, -1.0, -1.0, -1.0, -1.0, -1.0, -1.0, -1.0, -1.0, -1.0, -1.0, -1.0, -1.0, -1.0, 0.21]\n"
          ]
        }
      ]
    },
    {
      "cell_type": "code",
      "source": [
        "im = cv2.imread(samples[3][0])\n",
        "im.shape"
      ],
      "metadata": {
        "id": "EGTag7uGE1Ot",
        "colab": {
          "base_uri": "https://localhost:8080/"
        },
        "outputId": "f9d3f037-175a-44d5-b3be-65e6968ea0c2"
      },
      "execution_count": 28,
      "outputs": [
        {
          "output_type": "execute_result",
          "data": {
            "text/plain": [
              "(808, 1024, 3)"
            ]
          },
          "metadata": {},
          "execution_count": 28
        }
      ]
    },
    {
      "cell_type": "code",
      "source": [
        "plt.imshow(im[:,:,::-1])"
      ],
      "metadata": {
        "colab": {
          "base_uri": "https://localhost:8080/",
          "height": 288
        },
        "id": "DsHr9QZqZjgc",
        "outputId": "67bb3867-72aa-4be2-ba65-f88c69ed0d2d"
      },
      "execution_count": 29,
      "outputs": [
        {
          "output_type": "execute_result",
          "data": {
            "text/plain": [
              "<matplotlib.image.AxesImage at 0x7f40169ebd50>"
            ]
          },
          "metadata": {},
          "execution_count": 29
        },
        {
          "output_type": "display_data",
          "data": {
            "image/png": "[encoded data removed]",
            "text/plain": [
              "<Figure size 432x288 with 1 Axes>"
            ]
          },
          "metadata": {
            "needs_background": "light"
          }
        }
      ]
    },
    {
      "cell_type": "code",
      "source": [
        "samples[3][1][0][:4]"
      ],
      "metadata": {
        "colab": {
          "base_uri": "https://localhost:8080/"
        },
        "id": "sT06zt91aRaB",
        "outputId": "88f4dede-b8d7-43c0-862c-5f5654825e13"
      },
      "execution_count": 30,
      "outputs": [
        {
          "output_type": "execute_result",
          "data": {
            "text/plain": [
              "[25.0, 607.0, 58.0, 114.0]"
            ]
          },
          "metadata": {},
          "execution_count": 30
        }
      ]
    },
    {
      "cell_type": "code",
      "source": [
        "for s in samples[3][1]:\n",
        "    x,y,w,h = s[:4]\n",
        "    cv2.rectangle(im, (int(x), int(y)),(int(x+w), int(y+h)), (0,255,0), 4)"
      ],
      "metadata": {
        "id": "KWpJwGSAZjdG"
      },
      "execution_count": 31,
      "outputs": []
    },
    {
      "cell_type": "code",
      "source": [
        "plt.imshow(im[:,:,::-1])"
      ],
      "metadata": {
        "colab": {
          "base_uri": "https://localhost:8080/",
          "height": 288
        },
        "id": "v1Iiz9OBcAAz",
        "outputId": "c385d894-fb97-45cc-90e6-cf4384d01a6f"
      },
      "execution_count": 32,
      "outputs": [
        {
          "output_type": "execute_result",
          "data": {
            "text/plain": [
              "<matplotlib.image.AxesImage at 0x7f4015c719d0>"
            ]
          },
          "metadata": {},
          "execution_count": 32
        },
        {
          "output_type": "display_data",
          "data": {
            "image/png": "[encoded data removed]",
            "text/plain": [
              "<Figure size 432x288 with 1 Axes>"
            ]
          },
          "metadata": {
            "needs_background": "light"
          }
        }
      ]
    },
    {
      "cell_type": "code",
      "source": [
        ""
      ],
      "metadata": {
        "id": "9kMHSsMj7_2f"
      },
      "execution_count": 32,
      "outputs": []
    },
    {
      "cell_type": "markdown",
      "source": [
        "# Model "
      ],
      "metadata": {
        "id": "UkjLUGKbmHTR"
      }
    },
    {
      "cell_type": "code",
      "source": [
        "import tensorflow as tf\n",
        "from tensorflow.keras import Model\n",
        "from tensorflow.keras.applications import MobileNetV2\n",
        "from tensorflow.keras.layers import Input, Conv2D, ReLU, LeakyReLU, BatchNormalization"
      ],
      "metadata": {
        "id": "VajGJf8OmMCf"
      },
      "execution_count": 33,
      "outputs": []
    },
    {
      "cell_type": "code",
      "source": [
        ""
      ],
      "metadata": {
        "id": "TFoWETXXTgox"
      },
      "execution_count": 33,
      "outputs": []
    },
    {
      "cell_type": "code",
      "source": [
        "input_size = (640,640,3)"
      ],
      "metadata": {
        "id": "0JHYVbDxUSMv"
      },
      "execution_count": 34,
      "outputs": []
    },
    {
      "cell_type": "markdown",
      "source": [
        "## Base Model"
      ],
      "metadata": {
        "id": "tcXJ32l2Q96o"
      }
    },
    {
      "cell_type": "code",
      "source": [
        "base_model = MobileNetV2(input_shape = input_size, include_top=False, weights= 'imagenet')\n",
        "\n",
        "base_model.trainable = False\n",
        "\n"
      ],
      "metadata": {
        "colab": {
          "base_uri": "https://localhost:8080/"
        },
        "id": "Q6EUwtX1U8ZL",
        "outputId": "f585e183-03cb-44ca-ce58-9528893cd0a4"
      },
      "execution_count": 35,
      "outputs": [
        {
          "output_type": "stream",
          "name": "stdout",
          "text": [
            "WARNING:tensorflow:`input_shape` is undefined or non-square, or `rows` is not in [96, 128, 160, 192, 224]. Weights for input shape (224, 224) will be loaded as the default.\n",
            "Downloading data from https://storage.googleapis.com/tensorflow/keras-applications/mobilenet_v2/mobilenet_v2_weights_tf_dim_ordering_tf_kernels_1.0_224_no_top.h5\n",
            "9412608/9406464 [==============================] - 0s 0us/step\n",
            "9420800/9406464 [==============================] - 0s 0us/step\n"
          ]
        }
      ]
    },
    {
      "cell_type": "code",
      "source": [
        ""
      ],
      "metadata": {
        "id": "btihrYaqWeIg"
      },
      "execution_count": 35,
      "outputs": []
    },
    {
      "cell_type": "code",
      "source": [
        "base_model.layers[143].output"
      ],
      "metadata": {
        "colab": {
          "base_uri": "https://localhost:8080/"
        },
        "id": "n6BbUYfvXNTO",
        "outputId": "d8634041-5812-4500-ddab-f1a5a9a6116f"
      },
      "execution_count": 36,
      "outputs": [
        {
          "output_type": "execute_result",
          "data": {
            "text/plain": [
              "<KerasTensor: shape=(None, 20, 20, 960) dtype=float32 (created by layer 'block_16_expand')>"
            ]
          },
          "metadata": {},
          "execution_count": 36
        }
      ]
    },
    {
      "cell_type": "code",
      "source": [
        "base_model.input"
      ],
      "metadata": {
        "colab": {
          "base_uri": "https://localhost:8080/"
        },
        "id": "ExBuEXdWZSk4",
        "outputId": "1640420d-1f01-4f1e-d16b-ebd7f6af0b1f"
      },
      "execution_count": 37,
      "outputs": [
        {
          "output_type": "execute_result",
          "data": {
            "text/plain": [
              "<KerasTensor: shape=(None, 640, 640, 3) dtype=float32 (created by layer 'input_1')>"
            ]
          },
          "metadata": {},
          "execution_count": 37
        }
      ]
    },
    {
      "cell_type": "code",
      "source": [
        "pick_layer1 = 54  # [80, 80, 192]\n",
        "pick_layer2 = 116  # [40, 40, 576]\n",
        "pick_layer3 = 143  # [20, 20, 960]"
      ],
      "metadata": {
        "id": "qQxBCKhNXNQB"
      },
      "execution_count": 38,
      "outputs": []
    },
    {
      "cell_type": "code",
      "source": [
        "preprocess_input = tf.keras.applications.mobilenet_v2.preprocess_input"
      ],
      "metadata": {
        "id": "Us25d6ciZ0Oq"
      },
      "execution_count": 39,
      "outputs": []
    },
    {
      "cell_type": "code",
      "source": [
        "# define model\n",
        "inputs = Input(input_size, name='input_image')\n",
        "\n",
        "x = preprocess_input(inputs)\n",
        "mobilenetv2_layer1_80 = Model(base_model.input, base_model.layers[pick_layer1].output, name = 'mobilenet_layer54_80')(x)\n",
        "mobilenetv2_layer2_40 = Model(base_model.input, base_model.layers[pick_layer2].output, name = 'mobilenet_layer116_40')(x)\n",
        "mobilenetv2_layer3_20 = Model(base_model.input, base_model.layers[pick_layer3].output, name = 'mobilenet_layer143_20')(x)\n",
        "\n",
        "model = Model(inputs,\n",
        "              (mobilenetv2_layer1_80,\n",
        "               mobilenetv2_layer2_40,\n",
        "               mobilenetv2_layer3_20))\n",
        "\n",
        "model.summary()"
      ],
      "metadata": {
        "colab": {
          "base_uri": "https://localhost:8080/"
        },
        "id": "ngHOJHHNZsf9",
        "outputId": "d81c65fb-1381-45be-e4d3-bb138fe27f1e"
      },
      "execution_count": 40,
      "outputs": [
        {
          "output_type": "stream",
          "name": "stdout",
          "text": [
            "Model: \"model\"\n",
            "__________________________________________________________________________________________________\n",
            " Layer (type)                   Output Shape         Param #     Connected to                     \n",
            "==================================================================================================\n",
            " input_image (InputLayer)       [(None, 640, 640, 3  0           []                               \n",
            "                                )]                                                                \n",
            "                                                                                                  \n",
            " tf.math.truediv (TFOpLambda)   (None, 640, 640, 3)  0           ['input_image[0][0]']            \n",
            "                                                                                                  \n",
            " tf.math.subtract (TFOpLambda)  (None, 640, 640, 3)  0           ['tf.math.truediv[0][0]']        \n",
            "                                                                                                  \n",
            " mobilenet_layer54_80 (Function  (None, 80, 80, 192)  65152      ['tf.math.subtract[0][0]']       \n",
            " al)                                                                                              \n",
            "                                                                                                  \n",
            " mobilenet_layer116_40 (Functio  (None, 40, 40, 576)  613952     ['tf.math.subtract[0][0]']       \n",
            " nal)                                                                                             \n",
            "                                                                                                  \n",
            " mobilenet_layer143_20 (Functio  (None, 20, 20, 960)  1518464    ['tf.math.subtract[0][0]']       \n",
            " nal)                                                                                             \n",
            "                                                                                                  \n",
            "==================================================================================================\n",
            "Total params: 1,518,464\n",
            "Trainable params: 0\n",
            "Non-trainable params: 1,518,464\n",
            "__________________________________________________________________________________________________\n"
          ]
        }
      ]
    },
    {
      "cell_type": "code",
      "source": [
        "1518464 + 613952 + 65152 "
      ],
      "metadata": {
        "colab": {
          "base_uri": "https://localhost:8080/"
        },
        "id": "y2oE52fIpGFt",
        "outputId": "8610774c-2dee-41c6-b717-5e9f64bd49e9"
      },
      "execution_count": 41,
      "outputs": [
        {
          "output_type": "execute_result",
          "data": {
            "text/plain": [
              "2197568"
            ]
          },
          "metadata": {},
          "execution_count": 41
        }
      ]
    },
    {
      "cell_type": "code",
      "source": [
        "model_json = model.to_json()\n",
        "with open(\"model.json\", \"w\") as json_file:\n",
        "    json_file.write(model_json)\n",
        "\n",
        "\n",
        "#model.save_weights('model.h5')\n"
      ],
      "metadata": {
        "colab": {
          "base_uri": "https://localhost:8080/"
        },
        "id": "LUyiUOOXmG3v",
        "outputId": "e85a8a9a-a01a-47ab-f471-3623941350b1"
      },
      "execution_count": 42,
      "outputs": [
        {
          "output_type": "stream",
          "name": "stderr",
          "text": [
            "/usr/local/lib/python3.7/dist-packages/keras/engine/functional.py:1410: CustomMaskWarning: Custom mask layers require a config and must override get_config. When loading, the custom mask layer must be passed to the custom_objects argument.\n",
            "  layer_config = serialize_layer_fn(layer)\n"
          ]
        }
      ]
    },
    {
      "cell_type": "code",
      "source": [
        "# load json and create model\n",
        "with open('model.json', 'r') as json_file:\n",
        "    model_json = json_file.read()\n",
        "\n",
        "model = tf.keras.models.model_from_json(model_json)\n",
        "# load weights into new model\n",
        "#model.load_weights(\"model.h5\")"
      ],
      "metadata": {
        "id": "wmFwqBPnoAmP"
      },
      "execution_count": 43,
      "outputs": []
    },
    {
      "cell_type": "code",
      "source": [
        "model.summary()"
      ],
      "metadata": {
        "colab": {
          "base_uri": "https://localhost:8080/"
        },
        "id": "3BNBFuukoAjZ",
        "outputId": "c06d9920-2236-4d29-e408-c4baaf464c5a"
      },
      "execution_count": 44,
      "outputs": [
        {
          "output_type": "stream",
          "name": "stdout",
          "text": [
            "Model: \"model\"\n",
            "__________________________________________________________________________________________________\n",
            " Layer (type)                   Output Shape         Param #     Connected to                     \n",
            "==================================================================================================\n",
            " input_image (InputLayer)       [(None, 640, 640, 3  0           []                               \n",
            "                                )]                                                                \n",
            "                                                                                                  \n",
            " tf.math.truediv (TFOpLambda)   (None, 640, 640, 3)  0           ['input_image[0][0]']            \n",
            "                                                                                                  \n",
            " tf.math.subtract (TFOpLambda)  (None, 640, 640, 3)  0           ['tf.math.truediv[0][0]']        \n",
            "                                                                                                  \n",
            " mobilenet_layer54_80 (Function  (None, 80, 80, 192)  65152      ['tf.math.subtract[0][0]']       \n",
            " al)                                                                                              \n",
            "                                                                                                  \n",
            " mobilenet_layer116_40 (Functio  (None, 40, 40, 576)  613952     ['tf.math.subtract[0][0]']       \n",
            " nal)                                                                                             \n",
            "                                                                                                  \n",
            " mobilenet_layer143_20 (Functio  (None, 20, 20, 960)  1518464    ['tf.math.subtract[0][0]']       \n",
            " nal)                                                                                             \n",
            "                                                                                                  \n",
            "==================================================================================================\n",
            "Total params: 2,197,568\n",
            "Trainable params: 0\n",
            "Non-trainable params: 2,197,568\n",
            "__________________________________________________________________________________________________\n"
          ]
        }
      ]
    },
    {
      "cell_type": "code",
      "source": [
        ""
      ],
      "metadata": {
        "id": "zosSvHOKmGte"
      },
      "execution_count": 44,
      "outputs": []
    },
    {
      "cell_type": "markdown",
      "source": [
        "## Complete Model"
      ],
      "metadata": {
        "id": "ip7Hm191RDgx"
      }
    },
    {
      "cell_type": "code",
      "source": [
        "def conv_block(prev_layer, name, filters, kernel, stride, act = True):\n",
        "    x =  Conv2D(filters = filters, \n",
        "                kernel_size = kernel, \n",
        "                strides = stride, \n",
        "                padding='same',\n",
        "                kernel_initializer = tf.keras.initializers.he_normal(),\n",
        "                use_bias = False,\n",
        "                name = name+'conv')(prev_layer)\n",
        "    \n",
        "    x = BatchNormalization(epsilon=1e-5,\n",
        "                           name = name+'batchnorm')(x)\n",
        "\n",
        "    if act:\n",
        "        x = ReLU(name = name+'relu')(x)\n",
        "               \n",
        "    \n",
        "    return x"
      ],
      "metadata": {
        "id": "hXGGnbxqZusF"
      },
      "execution_count": 45,
      "outputs": []
    },
    {
      "cell_type": "code",
      "source": [
        ""
      ],
      "metadata": {
        "id": "cQ6aWYb42Wfv"
      },
      "execution_count": 45,
      "outputs": []
    },
    {
      "cell_type": "code",
      "source": [
        "def fpn(input_layer1, input_layer2, input_layer3):\n",
        "    '''\n",
        "    feature pyramid network\n",
        "    '''\n",
        "    output1 = conv_block(input_layer1,\n",
        "                        'fpn1_',\n",
        "                        filters = 64,\n",
        "                        kernel = 1,\n",
        "                        stride = 1)           #(None, 80, 80, 64)\n",
        "    \n",
        "    output2 = conv_block(input_layer2,\n",
        "                        'fpn2_',\n",
        "                        filters = 64,\n",
        "                        kernel = 1,\n",
        "                        stride = 1)           #(None, 40, 40, 64)\n",
        "    \n",
        "    output3 = conv_block(input_layer3,\n",
        "                        'fpn3_',\n",
        "                        filters = 64,\n",
        "                        kernel = 1,\n",
        "                        stride = 1)           #(None, 20, 20, 64)\n",
        "    \n",
        "    #Up sampling + feature fusion\n",
        "    up_h2, up_w2 = tf.shape(output2)[1], tf.shape(output2)[2]         #up_h = 40, up_w = 40\n",
        "    up3 = tf.image.resize(output3, [up_h2, up_w2], method='nearest')   # (None,40,40,64)\n",
        "    output2 = output2 + up3                                                         # (None,40,40,64)\n",
        "\n",
        "\n",
        "    merge2 = conv_block(output2,\n",
        "                        'fpn2_merge_',\n",
        "                        filters = 64,\n",
        "                        kernel = 3,\n",
        "                        stride = 1)                                                  # (None,40,40,64)\n",
        "    \n",
        "\n",
        "    #Up sampling + feature fusion\n",
        "    up_h1, up_w1 = tf.shape(output1)[1], tf.shape(output1)[2]         #up_h = 80, up_w = 80\n",
        "    up2 = tf.image.resize(merge2, [up_h1, up_w1], method='nearest')   # (None,80,80,64)\n",
        "    output1 = output1 + up2                                                  # (None,80,80,64)\n",
        "\n",
        "\n",
        "    merge1 = conv_block(output1,\n",
        "                        'fpn1_merge_',\n",
        "                        filters = 64,\n",
        "                        kernel = 3,\n",
        "                        stride = 1)                                               # (None,80,80,64)\n",
        "\n",
        "                        \n",
        "    return merge1, merge2, output3"
      ],
      "metadata": {
        "id": "c02BbHBwsfaG"
      },
      "execution_count": 46,
      "outputs": []
    },
    {
      "cell_type": "code",
      "source": [
        "o1,o2,o3 = fpn(mobilenetv2_layer1_80, mobilenetv2_layer2_40, mobilenetv2_layer3_20)\n",
        "\n",
        "print(o1)\n",
        "print(o2)\n",
        "print(o3)"
      ],
      "metadata": {
        "colab": {
          "base_uri": "https://localhost:8080/"
        },
        "id": "ONQNA9hTyswQ",
        "outputId": "7853f9f0-3227-4f63-eb34-b96cbc26d287"
      },
      "execution_count": 47,
      "outputs": [
        {
          "output_type": "stream",
          "name": "stdout",
          "text": [
            "KerasTensor(type_spec=TensorSpec(shape=(None, 80, 80, 64), dtype=tf.float32, name=None), name='fpn1_merge_relu/Relu:0', description=\"created by layer 'fpn1_merge_relu'\")\n",
            "KerasTensor(type_spec=TensorSpec(shape=(None, 40, 40, 64), dtype=tf.float32, name=None), name='fpn2_merge_relu/Relu:0', description=\"created by layer 'fpn2_merge_relu'\")\n",
            "KerasTensor(type_spec=TensorSpec(shape=(None, 20, 20, 64), dtype=tf.float32, name=None), name='fpn3_relu/Relu:0', description=\"created by layer 'fpn3_relu'\")\n"
          ]
        }
      ]
    },
    {
      "cell_type": "code",
      "source": [
        ""
      ],
      "metadata": {
        "id": "uTArZRjuZupT"
      },
      "execution_count": 47,
      "outputs": []
    },
    {
      "cell_type": "code",
      "source": [
        "def ssh(prev_layer, name):\n",
        "    '''\n",
        "    single stage headless\n",
        "    '''\n",
        "    conv_3x3 = conv_block(prev_layer,\n",
        "                        name = name + 'conv_3x3',\n",
        "                        filters = 64//2,\n",
        "                        kernel = 3,\n",
        "                        stride = 1,\n",
        "                         act = False)      \n",
        "\n",
        "    conv_5x5_1 = conv_block(prev_layer,\n",
        "                        name = name + 'conv_5x5_1',\n",
        "                        filters = 64//4,\n",
        "                        kernel = 3,\n",
        "                        stride = 1,\n",
        "                         act = True)  \n",
        "    conv_5x5 = conv_block(conv_5x5_1,\n",
        "                        name = name + 'conv_5x5',\n",
        "                        filters = 64//4,\n",
        "                        kernel = 3,\n",
        "                        stride = 1,\n",
        "                         act = False)  \n",
        "\n",
        "    conv_7x7_1 = conv_block(conv_5x5_1,\n",
        "                        name = name + 'conv_7x7_1',\n",
        "                        filters = 64//4,\n",
        "                        kernel = 3,\n",
        "                        stride = 1,\n",
        "                         act = True)  \n",
        "    conv_7x7 = conv_block(conv_7x7_1,\n",
        "                        name = name + 'conv_7x7',\n",
        "                        filters = 64//4,\n",
        "                        kernel = 3,\n",
        "                        stride = 1,\n",
        "                         act = False)    \n",
        "\n",
        "    output = tf.concat([conv_3x3, conv_5x5, conv_7x7], axis=3)\n",
        "    output = keras.layers.ReLU(name = name+'final_relu')(output)   \n",
        "\n",
        "    return output"
      ],
      "metadata": {
        "id": "ewy7xgXq1gHG"
      },
      "execution_count": 48,
      "outputs": []
    },
    {
      "cell_type": "code",
      "source": [
        "ssh2 = ssh(o2, 'ssh2_40_')"
      ],
      "metadata": {
        "id": "sPnUhH-P1gD5"
      },
      "execution_count": 49,
      "outputs": []
    },
    {
      "cell_type": "code",
      "source": [
        "ssh2"
      ],
      "metadata": {
        "colab": {
          "base_uri": "https://localhost:8080/"
        },
        "id": "Dti2HUBTxzIm",
        "outputId": "dfc9024e-84f9-4d55-c990-5f318617cc5a"
      },
      "execution_count": 50,
      "outputs": [
        {
          "output_type": "execute_result",
          "data": {
            "text/plain": [
              "<KerasTensor: shape=(None, 40, 40, 64) dtype=float32 (created by layer 'ssh2_40_final_relu')>"
            ]
          },
          "metadata": {},
          "execution_count": 50
        }
      ]
    },
    {
      "cell_type": "code",
      "source": [
        ""
      ],
      "metadata": {
        "id": "7BW6FrDx62P1"
      },
      "execution_count": 50,
      "outputs": []
    },
    {
      "cell_type": "code",
      "source": [
        "min_sizes = [[16, 32], [64, 128], [256, 512]]\n",
        "len(min_sizes)"
      ],
      "metadata": {
        "colab": {
          "base_uri": "https://localhost:8080/"
        },
        "id": "aHeS4rN7J0l0",
        "outputId": "9ff652ba-84bd-4612-c348-15e089825477"
      },
      "execution_count": 51,
      "outputs": [
        {
          "output_type": "execute_result",
          "data": {
            "text/plain": [
              "3"
            ]
          },
          "metadata": {},
          "execution_count": 51
        }
      ]
    },
    {
      "cell_type": "code",
      "source": [
        "def classification_head(prev_layer, num_anchor, name):\n",
        "\n",
        "    conv_1x1 = keras.layers.Conv2D(filters = num_anchor * 2, \n",
        "                                   kernel_size = 1, \n",
        "                                   strides = 1,\n",
        "                                   name = name)(prev_layer)\n",
        "    \n",
        "    h, w = tf.shape(prev_layer)[1], tf.shape(prev_layer)[2]\n",
        "\n",
        "    return tf.reshape(conv_1x1, [-1, h * w * num_anchor, 2])\n",
        "\n",
        "\n",
        "def bbox_head(prev_layer, num_anchor, name):\n",
        "\n",
        "    conv_1x1 = keras.layers.Conv2D(filters = num_anchor * 4, \n",
        "                                   kernel_size = 1, \n",
        "                                   strides = 1,\n",
        "                                   name = name)(prev_layer)\n",
        "    \n",
        "    h, w = tf.shape(prev_layer)[1], tf.shape(prev_layer)[2]\n",
        "\n",
        "    return tf.reshape(conv_1x1, [-1, h * w * num_anchor, 4])"
      ],
      "metadata": {
        "id": "IzlG_SJh51Rs"
      },
      "execution_count": 52,
      "outputs": []
    },
    {
      "cell_type": "code",
      "source": [
        ""
      ],
      "metadata": {
        "id": "okZGS90lJ4nM"
      },
      "execution_count": 52,
      "outputs": []
    },
    {
      "cell_type": "code",
      "source": [
        "# define model\n",
        "inputs = Input(input_size, name='input_image')\n",
        "\n",
        "x = preprocess_input(inputs)\n",
        "mobilenetv2_layer1_80 = Model(base_model.input, base_model.layers[pick_layer1].output, name = 'mobilenet_layer54_80')(x)      #(None, 80, 80, 192)\n",
        "mobilenetv2_layer2_40 = Model(base_model.input, base_model.layers[pick_layer2].output, name = 'mobilenet_layer116_40')(x)      #(None, 40, 40, 576)\n",
        "mobilenetv2_layer3_20 = Model(base_model.input, base_model.layers[pick_layer3].output, name = 'mobilenet_layer143_20')(x)      #(None, 20, 20, 960)\n",
        "\n",
        "#feature pyramid network\n",
        "fpn_layer1_80, fpn_layer2_40, fpn_layer3_20 = fpn(mobilenetv2_layer1_80, mobilenetv2_layer2_40, mobilenetv2_layer3_20)     #(None,80,80,64), ()\n",
        "\n",
        "ssh_layer1 = ssh(fpn_layer1_80, name = 'ssh1_80_')\n",
        "ssh_layer2 = ssh(fpn_layer2_40, name = 'ssh2_40_')\n",
        "ssh_layer3 = ssh(fpn_layer3_20, name = 'ssh3_20_')\n",
        "\n",
        "#Classification head\n",
        "classification_layer1 = classification_head(ssh_layer1, len(min_sizes[0]), 'classification_layer1')\n",
        "classification_layer2 = classification_head(ssh_layer2, len(min_sizes[0]), 'classification_layer2')\n",
        "classification_layer3 = classification_head(ssh_layer3, len(min_sizes[0]), 'classification_layer3')\n",
        "\n",
        "classifications = tf.concat([classification_layer1,\n",
        "                             classification_layer2,\n",
        "                             classification_layer3], axis=1)\n",
        "\n",
        "#classification activation function \n",
        "classifications = tf.keras.layers.Softmax(axis = -1, name = 'classifications_softmax')(classifications)\n",
        "\n",
        "\n",
        "#bounding box regressions head\n",
        "bbox_layer1 = bbox_head(ssh_layer1, len(min_sizes[0]), 'bbox_layer1')\n",
        "bbox_layer2 = bbox_head(ssh_layer2, len(min_sizes[0]), 'bbox_layer2')\n",
        "bbox_layer3 = bbox_head(ssh_layer3, len(min_sizes[0]), 'bbox_layer3')\n",
        "\n",
        "bbox_regressions = tf.concat([bbox_layer1,\n",
        "                              bbox_layer2,\n",
        "                              bbox_layer3], axis=1)\n",
        "\n",
        "#output\n",
        "output = (classifications, bbox_regressions)\n",
        "\n",
        "model = Model(inputs, output)\n",
        "\n",
        "model.summary()"
      ],
      "metadata": {
        "colab": {
          "base_uri": "https://localhost:8080/"
        },
        "id": "hBrIUHrQ51Kl",
        "outputId": "5486d89b-d73e-47e6-bee1-5f49215b91dc"
      },
      "execution_count": 53,
      "outputs": [
        {
          "output_type": "stream",
          "name": "stdout",
          "text": [
            "Model: \"model_1\"\n",
            "__________________________________________________________________________________________________\n",
            " Layer (type)                   Output Shape         Param #     Connected to                     \n",
            "==================================================================================================\n",
            " input_image (InputLayer)       [(None, 640, 640, 3  0           []                               \n",
            "                                )]                                                                \n",
            "                                                                                                  \n",
            " tf.math.truediv_1 (TFOpLambda)  (None, 640, 640, 3)  0          ['input_image[0][0]']            \n",
            "                                                                                                  \n",
            " tf.math.subtract_1 (TFOpLambda  (None, 640, 640, 3)  0          ['tf.math.truediv_1[0][0]']      \n",
            " )                                                                                                \n",
            "                                                                                                  \n",
            " mobilenet_layer116_40 (Functio  (None, 40, 40, 576)  613952     ['tf.math.subtract_1[0][0]']     \n",
            " nal)                                                                                             \n",
            "                                                                                                  \n",
            " fpn2_conv (Conv2D)             (None, 40, 40, 64)   36864       ['mobilenet_layer116_40[0][0]']  \n",
            "                                                                                                  \n",
            " fpn2_batchnorm (BatchNormaliza  (None, 40, 40, 64)  256         ['fpn2_conv[0][0]']              \n",
            " tion)                                                                                            \n",
            "                                                                                                  \n",
            " mobilenet_layer143_20 (Functio  (None, 20, 20, 960)  1518464    ['tf.math.subtract_1[0][0]']     \n",
            " nal)                                                                                             \n",
            "                                                                                                  \n",
            " fpn2_relu (ReLU)               (None, 40, 40, 64)   0           ['fpn2_batchnorm[0][0]']         \n",
            "                                                                                                  \n",
            " fpn3_conv (Conv2D)             (None, 20, 20, 64)   61440       ['mobilenet_layer143_20[0][0]']  \n",
            "                                                                                                  \n",
            " fpn3_batchnorm (BatchNormaliza  (None, 20, 20, 64)  256         ['fpn3_conv[0][0]']              \n",
            " tion)                                                                                            \n",
            "                                                                                                  \n",
            " tf.compat.v1.shape_4 (TFOpLamb  (4,)                0           ['fpn2_relu[0][0]']              \n",
            " da)                                                                                              \n",
            "                                                                                                  \n",
            " tf.compat.v1.shape_5 (TFOpLamb  (4,)                0           ['fpn2_relu[0][0]']              \n",
            " da)                                                                                              \n",
            "                                                                                                  \n",
            " mobilenet_layer54_80 (Function  (None, 80, 80, 192)  65152      ['tf.math.subtract_1[0][0]']     \n",
            " al)                                                                                              \n",
            "                                                                                                  \n",
            " fpn3_relu (ReLU)               (None, 20, 20, 64)   0           ['fpn3_batchnorm[0][0]']         \n",
            "                                                                                                  \n",
            " tf.__operators__.getitem_4 (Sl  ()                  0           ['tf.compat.v1.shape_4[0][0]']   \n",
            " icingOpLambda)                                                                                   \n",
            "                                                                                                  \n",
            " tf.__operators__.getitem_5 (Sl  ()                  0           ['tf.compat.v1.shape_5[0][0]']   \n",
            " icingOpLambda)                                                                                   \n",
            "                                                                                                  \n",
            " fpn1_conv (Conv2D)             (None, 80, 80, 64)   12288       ['mobilenet_layer54_80[0][0]']   \n",
            "                                                                                                  \n",
            " tf.image.resize_2 (TFOpLambda)  (None, 40, 40, 64)  0           ['fpn3_relu[0][0]',              \n",
            "                                                                  'tf.__operators__.getitem_4[0][0\n",
            "                                                                 ]',                              \n",
            "                                                                  'tf.__operators__.getitem_5[0][0\n",
            "                                                                 ]']                              \n",
            "                                                                                                  \n",
            " fpn1_batchnorm (BatchNormaliza  (None, 80, 80, 64)  256         ['fpn1_conv[0][0]']              \n",
            " tion)                                                                                            \n",
            "                                                                                                  \n",
            " tf.__operators__.add_2 (TFOpLa  (None, 40, 40, 64)  0           ['fpn2_relu[0][0]',              \n",
            " mbda)                                                            'tf.image.resize_2[0][0]']      \n",
            "                                                                                                  \n",
            " fpn1_relu (ReLU)               (None, 80, 80, 64)   0           ['fpn1_batchnorm[0][0]']         \n",
            "                                                                                                  \n",
            " fpn2_merge_conv (Conv2D)       (None, 40, 40, 64)   36864       ['tf.__operators__.add_2[0][0]'] \n",
            "                                                                                                  \n",
            " fpn2_merge_batchnorm (BatchNor  (None, 40, 40, 64)  256         ['fpn2_merge_conv[0][0]']        \n",
            " malization)                                                                                      \n",
            "                                                                                                  \n",
            " tf.compat.v1.shape_6 (TFOpLamb  (4,)                0           ['fpn1_relu[0][0]']              \n",
            " da)                                                                                              \n",
            "                                                                                                  \n",
            " tf.compat.v1.shape_7 (TFOpLamb  (4,)                0           ['fpn1_relu[0][0]']              \n",
            " da)                                                                                              \n",
            "                                                                                                  \n",
            " fpn2_merge_relu (ReLU)         (None, 40, 40, 64)   0           ['fpn2_merge_batchnorm[0][0]']   \n",
            "                                                                                                  \n",
            " tf.__operators__.getitem_6 (Sl  ()                  0           ['tf.compat.v1.shape_6[0][0]']   \n",
            " icingOpLambda)                                                                                   \n",
            "                                                                                                  \n",
            " tf.__operators__.getitem_7 (Sl  ()                  0           ['tf.compat.v1.shape_7[0][0]']   \n",
            " icingOpLambda)                                                                                   \n",
            "                                                                                                  \n",
            " tf.image.resize_3 (TFOpLambda)  (None, 80, 80, 64)  0           ['fpn2_merge_relu[0][0]',        \n",
            "                                                                  'tf.__operators__.getitem_6[0][0\n",
            "                                                                 ]',                              \n",
            "                                                                  'tf.__operators__.getitem_7[0][0\n",
            "                                                                 ]']                              \n",
            "                                                                                                  \n",
            " tf.__operators__.add_3 (TFOpLa  (None, 80, 80, 64)  0           ['fpn1_relu[0][0]',              \n",
            " mbda)                                                            'tf.image.resize_3[0][0]']      \n",
            "                                                                                                  \n",
            " fpn1_merge_conv (Conv2D)       (None, 80, 80, 64)   36864       ['tf.__operators__.add_3[0][0]'] \n",
            "                                                                                                  \n",
            " fpn1_merge_batchnorm (BatchNor  (None, 80, 80, 64)  256         ['fpn1_merge_conv[0][0]']        \n",
            " malization)                                                                                      \n",
            "                                                                                                  \n",
            " fpn1_merge_relu (ReLU)         (None, 80, 80, 64)   0           ['fpn1_merge_batchnorm[0][0]']   \n",
            "                                                                                                  \n",
            " ssh1_80_conv_5x5_1conv (Conv2D  (None, 80, 80, 16)  9216        ['fpn1_merge_relu[0][0]']        \n",
            " )                                                                                                \n",
            "                                                                                                  \n",
            " ssh2_40_conv_5x5_1conv (Conv2D  (None, 40, 40, 16)  9216        ['fpn2_merge_relu[0][0]']        \n",
            " )                                                                                                \n",
            "                                                                                                  \n",
            " ssh3_20_conv_5x5_1conv (Conv2D  (None, 20, 20, 16)  9216        ['fpn3_relu[0][0]']              \n",
            " )                                                                                                \n",
            "                                                                                                  \n",
            " ssh1_80_conv_5x5_1batchnorm (B  (None, 80, 80, 16)  64          ['ssh1_80_conv_5x5_1conv[0][0]'] \n",
            " atchNormalization)                                                                               \n",
            "                                                                                                  \n",
            " ssh2_40_conv_5x5_1batchnorm (B  (None, 40, 40, 16)  64          ['ssh2_40_conv_5x5_1conv[0][0]'] \n",
            " atchNormalization)                                                                               \n",
            "                                                                                                  \n",
            " ssh3_20_conv_5x5_1batchnorm (B  (None, 20, 20, 16)  64          ['ssh3_20_conv_5x5_1conv[0][0]'] \n",
            " atchNormalization)                                                                               \n",
            "                                                                                                  \n",
            " ssh1_80_conv_5x5_1relu (ReLU)  (None, 80, 80, 16)   0           ['ssh1_80_conv_5x5_1batchnorm[0][\n",
            "                                                                 0]']                             \n",
            "                                                                                                  \n",
            " ssh2_40_conv_5x5_1relu (ReLU)  (None, 40, 40, 16)   0           ['ssh2_40_conv_5x5_1batchnorm[0][\n",
            "                                                                 0]']                             \n",
            "                                                                                                  \n",
            " ssh3_20_conv_5x5_1relu (ReLU)  (None, 20, 20, 16)   0           ['ssh3_20_conv_5x5_1batchnorm[0][\n",
            "                                                                 0]']                             \n",
            "                                                                                                  \n",
            " ssh1_80_conv_7x7_1conv (Conv2D  (None, 80, 80, 16)  2304        ['ssh1_80_conv_5x5_1relu[0][0]'] \n",
            " )                                                                                                \n",
            "                                                                                                  \n",
            " ssh2_40_conv_7x7_1conv (Conv2D  (None, 40, 40, 16)  2304        ['ssh2_40_conv_5x5_1relu[0][0]'] \n",
            " )                                                                                                \n",
            "                                                                                                  \n",
            " ssh3_20_conv_7x7_1conv (Conv2D  (None, 20, 20, 16)  2304        ['ssh3_20_conv_5x5_1relu[0][0]'] \n",
            " )                                                                                                \n",
            "                                                                                                  \n",
            " ssh1_80_conv_7x7_1batchnorm (B  (None, 80, 80, 16)  64          ['ssh1_80_conv_7x7_1conv[0][0]'] \n",
            " atchNormalization)                                                                               \n",
            "                                                                                                  \n",
            " ssh2_40_conv_7x7_1batchnorm (B  (None, 40, 40, 16)  64          ['ssh2_40_conv_7x7_1conv[0][0]'] \n",
            " atchNormalization)                                                                               \n",
            "                                                                                                  \n",
            " ssh3_20_conv_7x7_1batchnorm (B  (None, 20, 20, 16)  64          ['ssh3_20_conv_7x7_1conv[0][0]'] \n",
            " atchNormalization)                                                                               \n",
            "                                                                                                  \n",
            " ssh1_80_conv_7x7_1relu (ReLU)  (None, 80, 80, 16)   0           ['ssh1_80_conv_7x7_1batchnorm[0][\n",
            "                                                                 0]']                             \n",
            "                                                                                                  \n",
            " ssh2_40_conv_7x7_1relu (ReLU)  (None, 40, 40, 16)   0           ['ssh2_40_conv_7x7_1batchnorm[0][\n",
            "                                                                 0]']                             \n",
            "                                                                                                  \n",
            " ssh3_20_conv_7x7_1relu (ReLU)  (None, 20, 20, 16)   0           ['ssh3_20_conv_7x7_1batchnorm[0][\n",
            "                                                                 0]']                             \n",
            "                                                                                                  \n",
            " ssh1_80_conv_3x3conv (Conv2D)  (None, 80, 80, 32)   18432       ['fpn1_merge_relu[0][0]']        \n",
            "                                                                                                  \n",
            " ssh1_80_conv_5x5conv (Conv2D)  (None, 80, 80, 16)   2304        ['ssh1_80_conv_5x5_1relu[0][0]'] \n",
            "                                                                                                  \n",
            " ssh1_80_conv_7x7conv (Conv2D)  (None, 80, 80, 16)   2304        ['ssh1_80_conv_7x7_1relu[0][0]'] \n",
            "                                                                                                  \n",
            " ssh2_40_conv_3x3conv (Conv2D)  (None, 40, 40, 32)   18432       ['fpn2_merge_relu[0][0]']        \n",
            "                                                                                                  \n",
            " ssh2_40_conv_5x5conv (Conv2D)  (None, 40, 40, 16)   2304        ['ssh2_40_conv_5x5_1relu[0][0]'] \n",
            "                                                                                                  \n",
            " ssh2_40_conv_7x7conv (Conv2D)  (None, 40, 40, 16)   2304        ['ssh2_40_conv_7x7_1relu[0][0]'] \n",
            "                                                                                                  \n",
            " ssh3_20_conv_3x3conv (Conv2D)  (None, 20, 20, 32)   18432       ['fpn3_relu[0][0]']              \n",
            "                                                                                                  \n",
            " ssh3_20_conv_5x5conv (Conv2D)  (None, 20, 20, 16)   2304        ['ssh3_20_conv_5x5_1relu[0][0]'] \n",
            "                                                                                                  \n",
            " ssh3_20_conv_7x7conv (Conv2D)  (None, 20, 20, 16)   2304        ['ssh3_20_conv_7x7_1relu[0][0]'] \n",
            "                                                                                                  \n",
            " ssh1_80_conv_3x3batchnorm (Bat  (None, 80, 80, 32)  128         ['ssh1_80_conv_3x3conv[0][0]']   \n",
            " chNormalization)                                                                                 \n",
            "                                                                                                  \n",
            " ssh1_80_conv_5x5batchnorm (Bat  (None, 80, 80, 16)  64          ['ssh1_80_conv_5x5conv[0][0]']   \n",
            " chNormalization)                                                                                 \n",
            "                                                                                                  \n",
            " ssh1_80_conv_7x7batchnorm (Bat  (None, 80, 80, 16)  64          ['ssh1_80_conv_7x7conv[0][0]']   \n",
            " chNormalization)                                                                                 \n",
            "                                                                                                  \n",
            " ssh2_40_conv_3x3batchnorm (Bat  (None, 40, 40, 32)  128         ['ssh2_40_conv_3x3conv[0][0]']   \n",
            " chNormalization)                                                                                 \n",
            "                                                                                                  \n",
            " ssh2_40_conv_5x5batchnorm (Bat  (None, 40, 40, 16)  64          ['ssh2_40_conv_5x5conv[0][0]']   \n",
            " chNormalization)                                                                                 \n",
            "                                                                                                  \n",
            " ssh2_40_conv_7x7batchnorm (Bat  (None, 40, 40, 16)  64          ['ssh2_40_conv_7x7conv[0][0]']   \n",
            " chNormalization)                                                                                 \n",
            "                                                                                                  \n",
            " ssh3_20_conv_3x3batchnorm (Bat  (None, 20, 20, 32)  128         ['ssh3_20_conv_3x3conv[0][0]']   \n",
            " chNormalization)                                                                                 \n",
            "                                                                                                  \n",
            " ssh3_20_conv_5x5batchnorm (Bat  (None, 20, 20, 16)  64          ['ssh3_20_conv_5x5conv[0][0]']   \n",
            " chNormalization)                                                                                 \n",
            "                                                                                                  \n",
            " ssh3_20_conv_7x7batchnorm (Bat  (None, 20, 20, 16)  64          ['ssh3_20_conv_7x7conv[0][0]']   \n",
            " chNormalization)                                                                                 \n",
            "                                                                                                  \n",
            " tf.concat_1 (TFOpLambda)       (None, 80, 80, 64)   0           ['ssh1_80_conv_3x3batchnorm[0][0]\n",
            "                                                                 ',                               \n",
            "                                                                  'ssh1_80_conv_5x5batchnorm[0][0]\n",
            "                                                                 ',                               \n",
            "                                                                  'ssh1_80_conv_7x7batchnorm[0][0]\n",
            "                                                                 ']                               \n",
            "                                                                                                  \n",
            " tf.concat_2 (TFOpLambda)       (None, 40, 40, 64)   0           ['ssh2_40_conv_3x3batchnorm[0][0]\n",
            "                                                                 ',                               \n",
            "                                                                  'ssh2_40_conv_5x5batchnorm[0][0]\n",
            "                                                                 ',                               \n",
            "                                                                  'ssh2_40_conv_7x7batchnorm[0][0]\n",
            "                                                                 ']                               \n",
            "                                                                                                  \n",
            " tf.concat_3 (TFOpLambda)       (None, 20, 20, 64)   0           ['ssh3_20_conv_3x3batchnorm[0][0]\n",
            "                                                                 ',                               \n",
            "                                                                  'ssh3_20_conv_5x5batchnorm[0][0]\n",
            "                                                                 ',                               \n",
            "                                                                  'ssh3_20_conv_7x7batchnorm[0][0]\n",
            "                                                                 ']                               \n",
            "                                                                                                  \n",
            " ssh1_80_final_relu (ReLU)      (None, 80, 80, 64)   0           ['tf.concat_1[0][0]']            \n",
            "                                                                                                  \n",
            " ssh2_40_final_relu (ReLU)      (None, 40, 40, 64)   0           ['tf.concat_2[0][0]']            \n",
            "                                                                                                  \n",
            " ssh3_20_final_relu (ReLU)      (None, 20, 20, 64)   0           ['tf.concat_3[0][0]']            \n",
            "                                                                                                  \n",
            " tf.compat.v1.shape_8 (TFOpLamb  (4,)                0           ['ssh1_80_final_relu[0][0]']     \n",
            " da)                                                                                              \n",
            "                                                                                                  \n",
            " tf.compat.v1.shape_9 (TFOpLamb  (4,)                0           ['ssh1_80_final_relu[0][0]']     \n",
            " da)                                                                                              \n",
            "                                                                                                  \n",
            " tf.compat.v1.shape_10 (TFOpLam  (4,)                0           ['ssh2_40_final_relu[0][0]']     \n",
            " bda)                                                                                             \n",
            "                                                                                                  \n",
            " tf.compat.v1.shape_11 (TFOpLam  (4,)                0           ['ssh2_40_final_relu[0][0]']     \n",
            " bda)                                                                                             \n",
            "                                                                                                  \n",
            " tf.compat.v1.shape_12 (TFOpLam  (4,)                0           ['ssh3_20_final_relu[0][0]']     \n",
            " bda)                                                                                             \n",
            "                                                                                                  \n",
            " tf.compat.v1.shape_13 (TFOpLam  (4,)                0           ['ssh3_20_final_relu[0][0]']     \n",
            " bda)                                                                                             \n",
            "                                                                                                  \n",
            " tf.__operators__.getitem_8 (Sl  ()                  0           ['tf.compat.v1.shape_8[0][0]']   \n",
            " icingOpLambda)                                                                                   \n",
            "                                                                                                  \n",
            " tf.__operators__.getitem_9 (Sl  ()                  0           ['tf.compat.v1.shape_9[0][0]']   \n",
            " icingOpLambda)                                                                                   \n",
            "                                                                                                  \n",
            " tf.__operators__.getitem_10 (S  ()                  0           ['tf.compat.v1.shape_10[0][0]']  \n",
            " licingOpLambda)                                                                                  \n",
            "                                                                                                  \n",
            " tf.__operators__.getitem_11 (S  ()                  0           ['tf.compat.v1.shape_11[0][0]']  \n",
            " licingOpLambda)                                                                                  \n",
            "                                                                                                  \n",
            " tf.__operators__.getitem_12 (S  ()                  0           ['tf.compat.v1.shape_12[0][0]']  \n",
            " licingOpLambda)                                                                                  \n",
            "                                                                                                  \n",
            " tf.__operators__.getitem_13 (S  ()                  0           ['tf.compat.v1.shape_13[0][0]']  \n",
            " licingOpLambda)                                                                                  \n",
            "                                                                                                  \n",
            " tf.compat.v1.shape_14 (TFOpLam  (4,)                0           ['ssh1_80_final_relu[0][0]']     \n",
            " bda)                                                                                             \n",
            "                                                                                                  \n",
            " tf.compat.v1.shape_15 (TFOpLam  (4,)                0           ['ssh1_80_final_relu[0][0]']     \n",
            " bda)                                                                                             \n",
            "                                                                                                  \n",
            " tf.compat.v1.shape_16 (TFOpLam  (4,)                0           ['ssh2_40_final_relu[0][0]']     \n",
            " bda)                                                                                             \n",
            "                                                                                                  \n",
            " tf.compat.v1.shape_17 (TFOpLam  (4,)                0           ['ssh2_40_final_relu[0][0]']     \n",
            " bda)                                                                                             \n",
            "                                                                                                  \n",
            " tf.compat.v1.shape_18 (TFOpLam  (4,)                0           ['ssh3_20_final_relu[0][0]']     \n",
            " bda)                                                                                             \n",
            "                                                                                                  \n",
            " tf.compat.v1.shape_19 (TFOpLam  (4,)                0           ['ssh3_20_final_relu[0][0]']     \n",
            " bda)                                                                                             \n",
            "                                                                                                  \n",
            " tf.math.multiply (TFOpLambda)  ()                   0           ['tf.__operators__.getitem_8[0][0\n",
            "                                                                 ]',                              \n",
            "                                                                  'tf.__operators__.getitem_9[0][0\n",
            "                                                                 ]']                              \n",
            "                                                                                                  \n",
            " tf.math.multiply_2 (TFOpLambda  ()                  0           ['tf.__operators__.getitem_10[0][\n",
            " )                                                               0]',                             \n",
            "                                                                  'tf.__operators__.getitem_11[0][\n",
            "                                                                 0]']                             \n",
            "                                                                                                  \n",
            " tf.math.multiply_4 (TFOpLambda  ()                  0           ['tf.__operators__.getitem_12[0][\n",
            " )                                                               0]',                             \n",
            "                                                                  'tf.__operators__.getitem_13[0][\n",
            "                                                                 0]']                             \n",
            "                                                                                                  \n",
            " tf.__operators__.getitem_14 (S  ()                  0           ['tf.compat.v1.shape_14[0][0]']  \n",
            " licingOpLambda)                                                                                  \n",
            "                                                                                                  \n",
            " tf.__operators__.getitem_15 (S  ()                  0           ['tf.compat.v1.shape_15[0][0]']  \n",
            " licingOpLambda)                                                                                  \n",
            "                                                                                                  \n",
            " tf.__operators__.getitem_16 (S  ()                  0           ['tf.compat.v1.shape_16[0][0]']  \n",
            " licingOpLambda)                                                                                  \n",
            "                                                                                                  \n",
            " tf.__operators__.getitem_17 (S  ()                  0           ['tf.compat.v1.shape_17[0][0]']  \n",
            " licingOpLambda)                                                                                  \n",
            "                                                                                                  \n",
            " tf.__operators__.getitem_18 (S  ()                  0           ['tf.compat.v1.shape_18[0][0]']  \n",
            " licingOpLambda)                                                                                  \n",
            "                                                                                                  \n",
            " tf.__operators__.getitem_19 (S  ()                  0           ['tf.compat.v1.shape_19[0][0]']  \n",
            " licingOpLambda)                                                                                  \n",
            "                                                                                                  \n",
            " classification_layer1 (Conv2D)  (None, 80, 80, 4)   260         ['ssh1_80_final_relu[0][0]']     \n",
            "                                                                                                  \n",
            " tf.math.multiply_1 (TFOpLambda  ()                  0           ['tf.math.multiply[0][0]']       \n",
            " )                                                                                                \n",
            "                                                                                                  \n",
            " classification_layer2 (Conv2D)  (None, 40, 40, 4)   260         ['ssh2_40_final_relu[0][0]']     \n",
            "                                                                                                  \n",
            " tf.math.multiply_3 (TFOpLambda  ()                  0           ['tf.math.multiply_2[0][0]']     \n",
            " )                                                                                                \n",
            "                                                                                                  \n",
            " classification_layer3 (Conv2D)  (None, 20, 20, 4)   260         ['ssh3_20_final_relu[0][0]']     \n",
            "                                                                                                  \n",
            " tf.math.multiply_5 (TFOpLambda  ()                  0           ['tf.math.multiply_4[0][0]']     \n",
            " )                                                                                                \n",
            "                                                                                                  \n",
            " tf.math.multiply_6 (TFOpLambda  ()                  0           ['tf.__operators__.getitem_14[0][\n",
            " )                                                               0]',                             \n",
            "                                                                  'tf.__operators__.getitem_15[0][\n",
            "                                                                 0]']                             \n",
            "                                                                                                  \n",
            " tf.math.multiply_8 (TFOpLambda  ()                  0           ['tf.__operators__.getitem_16[0][\n",
            " )                                                               0]',                             \n",
            "                                                                  'tf.__operators__.getitem_17[0][\n",
            "                                                                 0]']                             \n",
            "                                                                                                  \n",
            " tf.math.multiply_10 (TFOpLambd  ()                  0           ['tf.__operators__.getitem_18[0][\n",
            " a)                                                              0]',                             \n",
            "                                                                  'tf.__operators__.getitem_19[0][\n",
            "                                                                 0]']                             \n",
            "                                                                                                  \n",
            " tf.reshape (TFOpLambda)        (None, 12800, 2)     0           ['classification_layer1[0][0]',  \n",
            "                                                                  'tf.math.multiply_1[0][0]']     \n",
            "                                                                                                  \n",
            " tf.reshape_1 (TFOpLambda)      (None, 3200, 2)      0           ['classification_layer2[0][0]',  \n",
            "                                                                  'tf.math.multiply_3[0][0]']     \n",
            "                                                                                                  \n",
            " tf.reshape_2 (TFOpLambda)      (None, 800, 2)       0           ['classification_layer3[0][0]',  \n",
            "                                                                  'tf.math.multiply_5[0][0]']     \n",
            "                                                                                                  \n",
            " bbox_layer1 (Conv2D)           (None, 80, 80, 8)    520         ['ssh1_80_final_relu[0][0]']     \n",
            "                                                                                                  \n",
            " tf.math.multiply_7 (TFOpLambda  ()                  0           ['tf.math.multiply_6[0][0]']     \n",
            " )                                                                                                \n",
            "                                                                                                  \n",
            " bbox_layer2 (Conv2D)           (None, 40, 40, 8)    520         ['ssh2_40_final_relu[0][0]']     \n",
            "                                                                                                  \n",
            " tf.math.multiply_9 (TFOpLambda  ()                  0           ['tf.math.multiply_8[0][0]']     \n",
            " )                                                                                                \n",
            "                                                                                                  \n",
            " bbox_layer3 (Conv2D)           (None, 20, 20, 8)    520         ['ssh3_20_final_relu[0][0]']     \n",
            "                                                                                                  \n",
            " tf.math.multiply_11 (TFOpLambd  ()                  0           ['tf.math.multiply_10[0][0]']    \n",
            " a)                                                                                               \n",
            "                                                                                                  \n",
            " tf.concat_4 (TFOpLambda)       (None, 16800, 2)     0           ['tf.reshape[0][0]',             \n",
            "                                                                  'tf.reshape_1[0][0]',           \n",
            "                                                                  'tf.reshape_2[0][0]']           \n",
            "                                                                                                  \n",
            " tf.reshape_3 (TFOpLambda)      (None, 12800, 4)     0           ['bbox_layer1[0][0]',            \n",
            "                                                                  'tf.math.multiply_7[0][0]']     \n",
            "                                                                                                  \n",
            " tf.reshape_4 (TFOpLambda)      (None, 3200, 4)      0           ['bbox_layer2[0][0]',            \n",
            "                                                                  'tf.math.multiply_9[0][0]']     \n",
            "                                                                                                  \n",
            " tf.reshape_5 (TFOpLambda)      (None, 800, 4)       0           ['bbox_layer3[0][0]',            \n",
            "                                                                  'tf.math.multiply_11[0][0]']    \n",
            "                                                                                                  \n",
            " classifications_softmax (Softm  (None, 16800, 2)    0           ['tf.concat_4[0][0]']            \n",
            " ax)                                                                                              \n",
            "                                                                                                  \n",
            " tf.concat_5 (TFOpLambda)       (None, 16800, 4)     0           ['tf.reshape_3[0][0]',           \n",
            "                                                                  'tf.reshape_4[0][0]',           \n",
            "                                                                  'tf.reshape_5[0][0]']           \n",
            "                                                                                                  \n",
            "==================================================================================================\n",
            "Total params: 1,811,236\n",
            "Trainable params: 291,556\n",
            "Non-trainable params: 1,519,680\n",
            "__________________________________________________________________________________________________\n"
          ]
        }
      ]
    },
    {
      "cell_type": "code",
      "source": [
        "tf.keras.utils.plot_model(model, \n",
        "                          to_file='/content/drive/MyDrive/AI_Notebooks_and_Models/RetinaFace/Original/model_original_only_Class_bbox.png', \n",
        "                          show_shapes=True,\n",
        "                          show_layer_names=True)"
      ],
      "metadata": {
        "id": "cYFFr4xK51OG"
      },
      "execution_count": 54,
      "outputs": []
    },
    {
      "cell_type": "code",
      "source": [
        "model_json = model.to_json()\n",
        "with open(\"/content/drive/MyDrive/AI_Notebooks_and_Models/RetinaFace/Original/model_original_only_Class_bbox.json\", \"w\") as json_file:\n",
        "    json_file.write(model_json)\n",
        "\n",
        "\n",
        "model.save_weights('/content/drive/MyDrive/AI_Notebooks_and_Models/RetinaFace/Original/model_original_only_Class_bbox_withoutTraining.h5')\n"
      ],
      "metadata": {
        "id": "N2ThmuWRHwnf"
      },
      "execution_count": 54,
      "outputs": []
    },
    {
      "cell_type": "code",
      "source": [
        ""
      ],
      "metadata": {
        "id": "ZLxWSH4jHwVu"
      },
      "execution_count": 54,
      "outputs": []
    },
    {
      "cell_type": "code",
      "source": [
        ""
      ],
      "metadata": {
        "id": "lrBQjCr0HwTY"
      },
      "execution_count": 54,
      "outputs": []
    },
    {
      "cell_type": "code",
      "source": [
        ""
      ],
      "metadata": {
        "id": "AUg3CeZX6aBO"
      },
      "execution_count": 54,
      "outputs": []
    },
    {
      "cell_type": "code",
      "source": [
        ""
      ],
      "metadata": {
        "id": "XmTY20quJPXd"
      },
      "execution_count": 54,
      "outputs": []
    },
    {
      "cell_type": "code",
      "source": [
        ""
      ],
      "metadata": {
        "id": "oV_EhlHnm7rd"
      },
      "execution_count": 54,
      "outputs": []
    },
    {
      "cell_type": "markdown",
      "source": [
        "# END"
      ],
      "metadata": {
        "id": "ZYfuaRJa71xP"
      }
    },
    {
      "cell_type": "code",
      "source": [
        ""
      ],
      "metadata": {
        "id": "RSJPR99ZmGe-"
      },
      "execution_count": 54,
      "outputs": []
    }
  ]
}